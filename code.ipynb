{
 "cells": [
  {
   "cell_type": "code",
   "execution_count": null,
   "id": "4c4b8553-d8f1-4eb8-aeb0-c286e7a4d95b",
   "metadata": {},
   "outputs": [],
   "source": [
    "# Program Created by Jiyar PourYousef\n",
    "# Program Created on June 21, 2024\n",
    "# Program uses machine learning to determine weather a url is phishing or legitimate"
   ]
  },
  {
   "cell_type": "markdown",
   "id": "a19109fc-28c4-4f27-8ac0-917d6072183e",
   "metadata": {},
   "source": [
    "Import libraries for building the GUI, parsing URLs, retrieving domain information"
   ]
  },
  {
   "cell_type": "code",
   "execution_count": 23,
   "id": "b471311b-dfb2-4d0f-bfc4-2ea53266eba5",
   "metadata": {},
   "outputs": [],
   "source": [
    "import tkinter as tk\n",
    "from tkinter import ttk\n",
    "import pandas as pd\n",
    "from urllib.parse import urlparse\n",
    "from sklearn.ensemble import RandomForestClassifier\n",
    "from sklearn.metrics import classification_report\n",
    "from sklearn.model_selection import train_test_split"
   ]
  },
  {
   "cell_type": "markdown",
   "id": "9696ce72-240d-4550-8f81-34ce568c7765",
   "metadata": {},
   "source": [
    "Extract the two features from the url: URL length, and hostname length"
   ]
  },
  {
   "cell_type": "code",
   "execution_count": 24,
   "id": "6ef4632f-04bd-483c-ae93-e09be923bb21",
   "metadata": {},
   "outputs": [],
   "source": [
    "# Extract the length of the url inputted\n",
    "def get_url_length():\n",
    "    return len(url)\n",
    "\n",
    "\n",
    "# Function to extract hostname length\n",
    "def get_hostname_length(url):\n",
    "    parsed_url = urlparse(url)\n",
    "    hostname = parsed_url.hostname if parsed_url.hostname else parsed_url.path\n",
    "    return len(hostname)"
   ]
  },
  {
   "cell_type": "code",
   "execution_count": null,
   "id": "2880691e-fe40-4a83-90f6-8c1b0f67dc2f",
   "metadata": {},
   "outputs": [],
   "source": [
    "def check_url():\n",
    "    url = url_entry.get()\n",
    "    print(\"Entered URL:\", url)\n",
    "    \n",
    "    url_features = {\n",
    "        'url_length': get_url_length(url),\n",
    "        'domain_age': get_domain_age(url)\n",
    "    }\n",
    "    \n",
    "    # Create a DataFrame with the extracted features\n",
    "    url_features_df = pd.DataFrame([url_features])\n",
    "    # Predict if URL is phishing (1) or legitimate (0)\n",
    "    prediction = model.predict(url_features_df)\n",
    "\n",
    "    # Update the result label based on the prediction\n",
    "    result = \"phishing\" if prediction[0] == 1 else \"legitimate\"\n",
    "    result_label.config(text=f\"URL is likely to be {result}\"\n",
    "\n",
    "\n",
    "\n"
   ]
  },
  {
   "cell_type": "markdown",
   "id": "b7fbf214-a092-4e92-8b91-057d97c1f208",
   "metadata": {},
   "source": [
    "Load preprocess and split the dataset for what we need"
   ]
  },
  {
   "cell_type": "code",
   "execution_count": null,
   "id": "a4dfefd4-5c9a-40d6-a118-0d869d87a5ce",
   "metadata": {},
   "outputs": [],
   "source": [
    "# Function to load and preprocess dataset\n",
    "def load_dataset(dataset_path):\n",
    "    dataset = pd.read_csv(dataset_path)\n",
    "    # Selecting the url length and hostname length features and target variable\n",
    "    X = dataset[['url_length', 'hostname_length']]\n",
    "    y = dataset['status']\n",
    "\n",
    "    # Splitting the dataset into training and testing pairs\n",
    "    X_train, X_test, y_train, y_test = train_test_split(X, y, test_size=0.2, random_state=42)\n",
    "    return X_train, X_test, y_train, y_test"
   ]
  },
  {
   "cell_type": "markdown",
   "id": "dd2d7cff-511d-4e01-af6d-2b8d0e0c0174",
   "metadata": {},
   "source": [
    "Train the machine learning model"
   ]
  },
  {
   "cell_type": "code",
   "execution_count": null,
   "id": "abca374f-1c6a-4e65-a302-653d02836822",
   "metadata": {},
   "outputs": [],
   "source": [
    "# Function to train a Random Forest model\n",
    "def train_model(X_train, y_train):\n",
    "    model = RandomForestClassifier(random_state=42)\n",
    "    model.fit(X_train, y_train)\n",
    "    return model"
   ]
  },
  {
   "cell_type": "markdown",
   "id": "3004c432-d61b-4f51-802e-9c92525a796d",
   "metadata": {},
   "source": [
    "Predict and calculate result of url"
   ]
  },
  {
   "cell_type": "code",
   "execution_count": null,
   "id": "462d3464-695f-429f-b8d3-d55762daf5b2",
   "metadata": {},
   "outputs": [],
   "source": [
    "# Function to predict the phishing likelihood of a URL\n",
    "def predict_phishing(url, model):\n",
    "    url_features = {\n",
    "        'url_length': get_url_length(url),\n",
    "        'hostname_length': get_hostname_length(url)\n",
    "    }\n",
    "    url_features_df = pd.DataFrame([url_features])\n",
    "    prediction = model.predict(url_features_df)\n",
    "    return prediction[0]\n",
    "\n",
    "\n",
    "# Function to handle URL check button click\n",
    "def check_url():\n",
    "    url = url_entry.get()\n",
    "    prediction = predict_phishing(url, model)\n",
    "    result = \"phishing\" if prediction == 1 else \"legitimate\"\n",
    "    result_label.config(text=f\"URL is likely to be {result}\")"
   ]
  },
  {
   "cell_type": "markdown",
   "id": "b91a4ae4-8025-442b-93e9-dfda0cc6614e",
   "metadata": {},
   "source": [
    "Using Tkinter to allow user to type and enter a url"
   ]
  },
  {
   "cell_type": "code",
   "execution_count": null,
   "id": "ef6a2e75-5490-4e4d-be9f-5c633fc90a6a",
   "metadata": {},
   "outputs": [],
   "source": [
    "# Main application window\n",
    "root = tk.Tk()\n",
    "root.title(\"URL Phishing Detector\")\n",
    "\n",
    "# Frame to hold widgets (button)\n",
    "frame = tk.Frame(root)\n",
    "frame.pack(padx=20, pady=20)\n",
    "\n",
    "# Title label\n",
    "title_label = tk.Label(root, text=\"Phishing URL Detector\", font=(\"Helvetica\", 20))\n",
    "title_label.pack(pady=10)\n",
    "\n",
    "# create URL entry\n",
    "url_label = tk.Label(frame, text=\"Enter URL:\")\n",
    "# Position the label\n",
    "url_label.grid(row=0, column=0, padx=10, pady=10)\n",
    "\n",
    "url_entry = tk.Entry(frame, width=50)\n",
    "# Position\n",
    "url_entry.grid(row=0, column=1, padx=10, pady=10)\n",
    "\n",
    "# Check button\n",
    "check_button = tk.Button(frame, text=\"Check URL\", command=check_url)\n",
    "# Position\n",
    "check_button.grid(row=1, columnspan=2, padx=10, pady=10)\n",
    "\n",
    "# Result label\n",
    "result_label = tk.Label(root, text=\"\", font=(\"Helvetica\", 16))\n",
    "result_label.pack(pady=20)\n",
    "\n",
    "# Load and preprocess dataset\n",
    "dataset_path = \"dataset_link_phishing.csv\"\n",
    "X_train, X_test, y_train, y_test = load_dataset(dataset_path)\n",
    "\n",
    "# Train the model\n",
    "model = train_model(X_train, y_train)\n",
    "\n",
    "# Start the GUI application\n",
    "root.mainloop()"
   ]
  },
  {
   "cell_type": "markdown",
   "id": "5f81e0d4-8c6d-4b0f-972a-9c28d833310e",
   "metadata": {},
   "source": [
    "-------------------------------------------------------------------------------------------------------------------------------------------"
   ]
  },
  {
   "cell_type": "code",
   "execution_count": null,
   "id": "ce4dd51f-3bde-4116-bc37-b3da340512f7",
   "metadata": {},
   "outputs": [],
   "source": [
    "FULL CODE IN ONE CELL"
   ]
  },
  {
   "cell_type": "code",
   "execution_count": 49,
   "id": "064b477d-2bdb-4937-9d69-4a91de6027d9",
   "metadata": {},
   "outputs": [
    {
     "name": "stderr",
     "output_type": "stream",
     "text": [
      "/var/folders/5r/pw5kqmkx5sb4k9jv2v6wf2j80000gn/T/ipykernel_4455/3469539082.py:21: DtypeWarning: Columns (78) have mixed types. Specify dtype option on import or set low_memory=False.\n",
      "  dataset = pd.read_csv(dataset_path)\n"
     ]
    }
   ],
   "source": [
    "import tkinter as tk\n",
    "from tkinter import ttk\n",
    "import pandas as pd\n",
    "from urllib.parse import urlparse\n",
    "from sklearn.ensemble import RandomForestClassifier\n",
    "from sklearn.metrics import classification_report\n",
    "from sklearn.model_selection import train_test_split\n",
    "\n",
    "# Extract URL length\n",
    "def get_url_length(url):\n",
    "    return len(url)\n",
    "\n",
    "# Extract hostname length\n",
    "def get_hostname_length(url):\n",
    "    parsed_url = urlparse(url)\n",
    "    hostname = parsed_url.hostname if parsed_url.hostname else parsed_url.path\n",
    "    return len(hostname)\n",
    "\n",
    "# Function to load and preprocess dataset\n",
    "def load_dataset(dataset_path):\n",
    "    dataset = pd.read_csv(dataset_path)\n",
    "    # Selecting relevant features and target variable\n",
    "    X = dataset[['url_length', 'hostname_length']]\n",
    "    y = dataset['status']  # Assuming 'status' is your target column\n",
    "\n",
    "    # Splitting the dataset into training and testing sets\n",
    "    X_train, X_test, y_train, y_test = train_test_split(X, y, test_size=0.2, random_state=42)\n",
    "    return X_train, X_test, y_train, y_test\n",
    "\n",
    "# Function to train a Random Forest model\n",
    "def train_model(X_train, y_train):\n",
    "    model = RandomForestClassifier(random_state=42)\n",
    "    model.fit(X_train, y_train)\n",
    "    return model\n",
    "\n",
    "# Function to predict the phishing likelihood of a URL\n",
    "def predict_phishing(url, model):\n",
    "    url_features = {\n",
    "        'url_length': get_url_length(url),\n",
    "        'hostname_length': get_hostname_length(url)\n",
    "    }\n",
    "    url_features_df = pd.DataFrame([url_features])\n",
    "    prediction = model.predict(url_features_df)\n",
    "    return prediction[0]\n",
    "\n",
    "# Function to handle URL check button click\n",
    "def check_url():\n",
    "    url = url_entry.get()\n",
    "    prediction = predict_phishing(url, model)\n",
    "    result = \"phishing\" if prediction == 1 else \"legitimate\"\n",
    "    result_label.config(text=f\"URL is likely to be {result}\")\n",
    "\n",
    "# Main application window\n",
    "root = tk.Tk()\n",
    "root.title(\"URL Phishing Detector\")\n",
    "\n",
    "# Frame to hold widgets\n",
    "frame = tk.Frame(root)\n",
    "frame.pack(padx=20, pady=20)\n",
    "\n",
    "# Title label\n",
    "title_label = tk.Label(root, text=\"Phishing URL Detector\", font=(\"Helvetica\", 20))\n",
    "title_label.pack(pady=10)\n",
    "\n",
    "# URL entry\n",
    "url_label = tk.Label(frame, text=\"Enter URL:\")\n",
    "url_label.grid(row=0, column=0, padx=10, pady=10)\n",
    "\n",
    "url_entry = tk.Entry(frame, width=50)\n",
    "url_entry.grid(row=0, column=1, padx=10, pady=10)\n",
    "\n",
    "# Check button\n",
    "check_button = tk.Button(frame, text=\"Check URL\", command=check_url)\n",
    "check_button.grid(row=1, columnspan=2, padx=10, pady=10)\n",
    "\n",
    "# Result label\n",
    "result_label = tk.Label(root, text=\"\", font=(\"Helvetica\", 16))\n",
    "result_label.pack(pady=20)\n",
    "\n",
    "# Load and preprocess dataset\n",
    "dataset_path = \"dataset_link_phishing.csv\"\n",
    "X_train, X_test, y_train, y_test = load_dataset(dataset_path)\n",
    "\n",
    "# Train the model\n",
    "model = train_model(X_train, y_train)\n",
    "\n",
    "# Start the GUI application\n",
    "root.mainloop()\n"
   ]
  },
  {
   "cell_type": "code",
   "execution_count": null,
   "id": "91269755-1321-440d-bfa2-3e751ab07cc6",
   "metadata": {},
   "outputs": [],
   "source": []
  }
 ],
 "metadata": {
  "kernelspec": {
   "display_name": "Python 3 (ipykernel)",
   "language": "python",
   "name": "python3"
  },
  "language_info": {
   "codemirror_mode": {
    "name": "ipython",
    "version": 3
   },
   "file_extension": ".py",
   "mimetype": "text/x-python",
   "name": "python",
   "nbconvert_exporter": "python",
   "pygments_lexer": "ipython3",
   "version": "3.9.0"
  }
 },
 "nbformat": 4,
 "nbformat_minor": 5
}
